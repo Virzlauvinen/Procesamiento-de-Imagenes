{
  "nbformat": 4,
  "nbformat_minor": 0,
  "metadata": {
    "colab": {
      "provenance": [],
      "authorship_tag": "ABX9TyOS+mcuZ5QQUQVYUvGIURK7",
      "include_colab_link": true
    },
    "kernelspec": {
      "name": "python3",
      "display_name": "Python 3"
    },
    "language_info": {
      "name": "python"
    }
  },
  "cells": [
    {
      "cell_type": "markdown",
      "metadata": {
        "id": "view-in-github",
        "colab_type": "text"
      },
      "source": [
        "<a href=\"https://colab.research.google.com/github/Virzlauvinen/Procesamiento-de-Imagenes/blob/Vir/Implementacion_del_modelo_CNN.ipynb\" target=\"_parent\"><img src=\"https://colab.research.google.com/assets/colab-badge.svg\" alt=\"Open In Colab\"/></a>"
      ]
    },
    {
      "cell_type": "code",
      "source": [
        "import tensorflow as tf\n",
        "from PIL import Image\n",
        "import numpy as np"
      ],
      "metadata": {
        "id": "ixPMczVa8Qcs"
      },
      "execution_count": 1,
      "outputs": []
    },
    {
      "cell_type": "code",
      "source": [
        "def cargar_modelo(ruta_archivo):\n",
        "    modelo = tf.keras.models.load_model(ruta_archivo)\n",
        "    return modelo"
      ],
      "metadata": {
        "id": "DwhbPIkw8wRi"
      },
      "execution_count": 5,
      "outputs": []
    },
    {
      "cell_type": "code",
      "source": [
        "def predecir_imagen(ruta_archivo, modelo):\n",
        "    # Cargar la imagen\n",
        "    imagen = Image.open(ruta_archivo)\n",
        "\n",
        "    # Redimensionar la imagen al tamaño requerido por el modelo\n",
        "    imagen = imagen.resize((32, 32))\n",
        "\n",
        "    # Convertir la imagen a un arreglo numpy\n",
        "    imagen_array = np.array(imagen)\n",
        "\n",
        "    # Normalizar los valores de píxeles entre 0 y 1\n",
        "    imagen_normalizada = imagen_array / 255.0\n",
        "\n",
        "    # Añadir una dimensión extra para representar el lote de imágenes (batch)\n",
        "    imagen_normalizada = np.expand_dims(imagen_normalizada, axis=0)\n",
        "\n",
        "    # Realizar la predicción utilizando el modelo\n",
        "    prediccion = modelo.predict(imagen_normalizada)\n",
        "\n",
        "    # Obtener el índice de la clase con la mayor probabilidad\n",
        "    clase_predicha = np.argmax(prediccion, axis=1)[0]\n",
        "\n",
        "    return clase_predicha"
      ],
      "metadata": {
        "id": "1MdzLf2N5otn"
      },
      "execution_count": 6,
      "outputs": []
    },
    {
      "cell_type": "code",
      "execution_count": 12,
      "metadata": {
        "colab": {
          "base_uri": "https://localhost:8080/",
          "height": 93
        },
        "id": "k_2phCQK5JIF",
        "outputId": "1f5e8f0f-222f-43a3-8a2f-e02f5151bf10"
      },
      "outputs": [
        {
          "output_type": "stream",
          "name": "stderr",
          "text": [
            "WARNING:tensorflow:5 out of the last 5 calls to <function Model.make_predict_function.<locals>.predict_function at 0x7fe1d00bf910> triggered tf.function retracing. Tracing is expensive and the excessive number of tracings could be due to (1) creating @tf.function repeatedly in a loop, (2) passing tensors with different shapes, (3) passing Python objects instead of tensors. For (1), please define your @tf.function outside of the loop. For (2), @tf.function has reduce_retracing=True option that can avoid unnecessary retracing. For (3), please refer to https://www.tensorflow.org/guide/function#controlling_retracing and https://www.tensorflow.org/api_docs/python/tf/function for  more details.\n"
          ]
        },
        {
          "output_type": "stream",
          "name": "stdout",
          "text": [
            "1/1 [==============================] - 0s 104ms/step\n"
          ]
        },
        {
          "output_type": "execute_result",
          "data": {
            "text/plain": [
              "'deer'"
            ],
            "application/vnd.google.colaboratory.intrinsic+json": {
              "type": "string"
            }
          },
          "metadata": {},
          "execution_count": 12
        }
      ],
      "source": [
        "#Guardo modelo entrenado\n",
        "modelo = cargar_modelo('modelo_entrenado.h5')\n",
        "class_name = ['airplane', 'automobile', 'bird', 'cat', 'deer', 'dog', 'frog', 'horse', 'ship', 'truck']\n",
        "# foto = 'gato.jpg'\n",
        "#foto = 'barco.jpg'\n",
        "foto = 'perro.jpg'\n",
        "prediccion = predecir_imagen(foto,modelo)\n",
        "class_name[prediccion]"
      ]
    }
  ]
}